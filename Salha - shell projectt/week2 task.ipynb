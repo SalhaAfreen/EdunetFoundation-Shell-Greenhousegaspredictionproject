{
 "cells": [
  {
   "cell_type": "code",
   "execution_count": 5,
   "id": "9e20cc95-7821-4317-9b94-8f392a2845e2",
   "metadata": {},
   "outputs": [
    {
     "name": "stdout",
     "output_type": "stream",
     "text": [
      "🎯 R2 Score: 0.2595532698383106\n",
      "📉 MSE: 0.05250554049996335\n",
      "✅ Files saved: preprocessed_data.csv and model.pkl\n"
     ]
    }
   ],
   "source": [
    "# 📦 Import libraries\n",
    "import pandas as pd\n",
    "import numpy as np\n",
    "import seaborn as sns\n",
    "import matplotlib.pyplot as plt\n",
    "\n",
    "from sklearn.model_selection import train_test_split\n",
    "from sklearn.preprocessing import StandardScaler\n",
    "from sklearn.ensemble import RandomForestRegressor\n",
    "from sklearn.metrics import mean_squared_error, r2_score\n",
    "import joblib\n",
    "\n",
    "# ✅ Step 1: Load the CSV\n",
    "df = pd.read_csv('SupplyChainEmissionFactorsforUSIndustriesCommodities2015_Summary (1) (2).csv')\n",
    "\n",
    "# ✅ Step 2: Clean the data\n",
    "df.drop(columns=[col for col in df.columns if 'Unnamed' in col], inplace=True)\n",
    "df.dropna(subset=['Supply Chain Emission Factors with Margins'], inplace=True)\n",
    "\n",
    "# ✅ Step 3: Encode 'Substance' column\n",
    "substance_map = {'carbon dioxide': 0, 'methane': 1, 'nitrous oxide': 2, 'other GHGs': 3}\n",
    "df['Substance'] = df['Substance'].map(substance_map)\n",
    "\n",
    "# ✅ Step 4: Select features and target\n",
    "df['Year'] = 2015  # Since it's only for 2015\n",
    "features = ['Substance', 'Year']\n",
    "target = 'Supply Chain Emission Factors with Margins'\n",
    "\n",
    "X = df[features]\n",
    "y = df[target]\n",
    "\n",
    "# ✅ Step 5: Scale features\n",
    "scaler = StandardScaler()\n",
    "X_scaled = scaler.fit_transform(X)\n",
    "\n",
    "# ✅ Step 6: Train the model\n",
    "model = RandomForestRegressor()\n",
    "model.fit(X_scaled, y)\n",
    "\n",
    "# ✅ Step 7: Evaluate the model\n",
    "y_pred = model.predict(X_scaled)\n",
    "print(\"🎯 R2 Score:\", r2_score(y, y_pred))\n",
    "print(\"📉 MSE:\", mean_squared_error(y, y_pred))\n",
    "\n",
    "# ✅ Step 8: Save preprocessed data and model\n",
    "preprocessed_df = pd.DataFrame(X_scaled, columns=features)\n",
    "preprocessed_df['Target'] = y.values\n",
    "preprocessed_df.to_csv('preprocessed_data.csv', index=False)\n",
    "joblib.dump(model, 'model.pkl')\n",
    "\n",
    "print(\"✅ Files saved: preprocessed_data.csv and model.pkl\")\n"
   ]
  },
  {
   "cell_type": "code",
   "execution_count": null,
   "id": "e02ca7f9-73ef-44f0-8781-ca8516ef5041",
   "metadata": {},
   "outputs": [],
   "source": []
  },
  {
   "cell_type": "code",
   "execution_count": null,
   "id": "dcec2b1c-e982-4b0b-b5de-b5f89e9d8192",
   "metadata": {},
   "outputs": [],
   "source": []
  },
  {
   "cell_type": "code",
   "execution_count": null,
   "id": "9b4968b4-bc1d-406b-af3a-e55d34098fa2",
   "metadata": {},
   "outputs": [],
   "source": []
  },
  {
   "cell_type": "code",
   "execution_count": null,
   "id": "6da3e005-a1f5-4737-8451-36562bb8a12d",
   "metadata": {},
   "outputs": [],
   "source": []
  }
 ],
 "metadata": {
  "kernelspec": {
   "display_name": "Python 3 (ipykernel)",
   "language": "python",
   "name": "python3"
  },
  "language_info": {
   "codemirror_mode": {
    "name": "ipython",
    "version": 3
   },
   "file_extension": ".py",
   "mimetype": "text/x-python",
   "name": "python",
   "nbconvert_exporter": "python",
   "pygments_lexer": "ipython3",
   "version": "3.10.0"
  }
 },
 "nbformat": 4,
 "nbformat_minor": 5
}
